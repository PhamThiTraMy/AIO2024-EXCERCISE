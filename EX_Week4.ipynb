{
  "nbformat": 4,
  "nbformat_minor": 0,
  "metadata": {
    "colab": {
      "provenance": [],
      "authorship_tag": "ABX9TyPak7LppMMbCF4ANRwtTQ2D",
      "include_colab_link": true
    },
    "kernelspec": {
      "name": "python3",
      "display_name": "Python 3"
    },
    "language_info": {
      "name": "python"
    }
  },
  "cells": [
    {
      "cell_type": "markdown",
      "metadata": {
        "id": "view-in-github",
        "colab_type": "text"
      },
      "source": [
        "<a href=\"https://colab.research.google.com/github/PhamThiTraMy/AIO2024-EXCERCISE/blob/main/EX_Week4.ipynb\" target=\"_parent\"><img src=\"https://colab.research.google.com/assets/colab-badge.svg\" alt=\"Open In Colab\"/></a>"
      ]
    },
    {
      "cell_type": "markdown",
      "source": [
        "Câu hỏi 1"
      ],
      "metadata": {
        "id": "1GnYUPySkKcS"
      }
    },
    {
      "cell_type": "code",
      "execution_count": 2,
      "metadata": {
        "colab": {
          "base_uri": "https://localhost:8080/"
        },
        "id": "ECSmczCQkCyO",
        "outputId": "b8c1b1f9-efc2-42ae-931c-2dd82631ed24"
      },
      "outputs": [
        {
          "output_type": "stream",
          "name": "stdout",
          "text": [
            "mean of X:1.8\n"
          ]
        }
      ],
      "source": [
        "import numpy as np\n",
        "def compute_mean(X):\n",
        "  return np.mean(X)\n",
        "\n",
        "X=[2,0,2,2,7,4,-2,5,-1,-1]\n",
        "print(f\"mean of X:{compute_mean(X)}\")"
      ]
    },
    {
      "cell_type": "markdown",
      "source": [
        "Câu hỏi 2"
      ],
      "metadata": {
        "id": "IZibTq1WkIhY"
      }
    },
    {
      "cell_type": "code",
      "source": [
        "def compute_median(X):\n",
        "  return np.median(X)\n",
        "X = [1, 5, 4, 4, 9, 13]\n",
        "print(f\"Median of X:{compute_median(X)} \")\n"
      ],
      "metadata": {
        "colab": {
          "base_uri": "https://localhost:8080/"
        },
        "id": "ckBLWgJBlcuJ",
        "outputId": "70d76a86-7943-4a1e-ebe0-c08a9be1a3f0"
      },
      "execution_count": 4,
      "outputs": [
        {
          "output_type": "stream",
          "name": "stdout",
          "text": [
            "Median of X:4.5 \n"
          ]
        }
      ]
    },
    {
      "cell_type": "markdown",
      "source": [
        "Câu hỏi 3"
      ],
      "metadata": {
        "id": "RJwZdfnYrCqI"
      }
    },
    {
      "cell_type": "code",
      "source": [
        "def compute_std(X):\n",
        "    return np.std(X)\n",
        "\n",
        "X = [171, 176, 155, 167, 169, 182]\n",
        "print(f\"Standard Deviation of X: {compute_std(X)}\")"
      ],
      "metadata": {
        "colab": {
          "base_uri": "https://localhost:8080/"
        },
        "id": "wk60981PrBMY",
        "outputId": "602488f7-f50f-456b-c9b3-a3de4e5bdd62"
      },
      "execution_count": 5,
      "outputs": [
        {
          "output_type": "stream",
          "name": "stdout",
          "text": [
            "Standard Deviation of X: 8.32666399786453\n"
          ]
        }
      ]
    }
  ]
}