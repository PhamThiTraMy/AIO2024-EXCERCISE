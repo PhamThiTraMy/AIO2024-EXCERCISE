{
  "nbformat": 4,
  "nbformat_minor": 0,
  "metadata": {
    "colab": {
      "provenance": [],
      "authorship_tag": "ABX9TyP0acOp9XQvWmsrzxd2sGrB",
      "include_colab_link": true
    },
    "kernelspec": {
      "name": "python3",
      "display_name": "Python 3"
    },
    "language_info": {
      "name": "python"
    }
  },
  "cells": [
    {
      "cell_type": "markdown",
      "metadata": {
        "id": "view-in-github",
        "colab_type": "text"
      },
      "source": [
        "<a href=\"https://colab.research.google.com/github/PhamThiTraMy/AIO2024-EXCERCISE/blob/main/EX_Week4.ipynb\" target=\"_parent\"><img src=\"https://colab.research.google.com/assets/colab-badge.svg\" alt=\"Open In Colab\"/></a>"
      ]
    },
    {
      "cell_type": "markdown",
      "source": [
        "Câu hỏi 1"
      ],
      "metadata": {
        "id": "1GnYUPySkKcS"
      }
    },
    {
      "cell_type": "code",
      "execution_count": 2,
      "metadata": {
        "colab": {
          "base_uri": "https://localhost:8080/"
        },
        "id": "ECSmczCQkCyO",
        "outputId": "b8c1b1f9-efc2-42ae-931c-2dd82631ed24"
      },
      "outputs": [
        {
          "output_type": "stream",
          "name": "stdout",
          "text": [
            "mean of X:1.8\n"
          ]
        }
      ],
      "source": [
        "import numpy as np\n",
        "def compute_mean(X):\n",
        "  return np.mean(X)\n",
        "\n",
        "X=[2,0,2,2,7,4,-2,5,-1,-1]\n",
        "print(f\"mean of X:{compute_mean(X)}\")"
      ]
    },
    {
      "cell_type": "markdown",
      "source": [],
      "metadata": {
        "id": "IZibTq1WkIhY"
      }
    }
  ]
}