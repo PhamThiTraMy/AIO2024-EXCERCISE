{
  "nbformat": 4,
  "nbformat_minor": 0,
  "metadata": {
    "colab": {
      "provenance": [],
      "authorship_tag": "ABX9TyMI6IaW4WgD7JPm7aqM8Ffc",
      "include_colab_link": true
    },
    "kernelspec": {
      "name": "python3",
      "display_name": "Python 3"
    },
    "language_info": {
      "name": "python"
    }
  },
  "cells": [
    {
      "cell_type": "markdown",
      "metadata": {
        "id": "view-in-github",
        "colab_type": "text"
      },
      "source": [
        "<a href=\"https://colab.research.google.com/github/PhamThiTraMy/AIO2024-EXCERCISE/blob/main/E1_M2_W2.ipynb\" target=\"_parent\"><img src=\"https://colab.research.google.com/assets/colab-badge.svg\" alt=\"Open In Colab\"/></a>"
      ]
    },
    {
      "cell_type": "code",
      "execution_count": 1,
      "metadata": {
        "colab": {
          "base_uri": "https://localhost:8080/"
        },
        "id": "FhA_Nwo8869K",
        "outputId": "d96c0dcb-8b7d-4325-b370-134ea2455efc"
      },
      "outputs": [
        {
          "output_type": "stream",
          "name": "stdout",
          "text": [
            "23.28\n"
          ]
        }
      ],
      "source": [
        "import numpy as np\n",
        "def compute_vector_length(vector):\n",
        "  return np.linalg.norm(vector)\n",
        "vector =np.array([-2,4,9,21])\n",
        "result = compute_vector_length(vector)\n",
        "print(round(result,2))"
      ]
    }
  ]
}