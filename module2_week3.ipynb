{
  "nbformat": 4,
  "nbformat_minor": 0,
  "metadata": {
    "colab": {
      "provenance": [],
      "authorship_tag": "ABX9TyOoxPcQTiyhHvHlzHvo3B2s",
      "include_colab_link": true
    },
    "kernelspec": {
      "name": "python3",
      "display_name": "Python 3"
    },
    "language_info": {
      "name": "python"
    }
  },
  "cells": [
    {
      "cell_type": "markdown",
      "metadata": {
        "id": "view-in-github",
        "colab_type": "text"
      },
      "source": [
        "<a href=\"https://colab.research.google.com/github/PhamThiTraMy/AIO2024-EXCERCISE/blob/main/module2_week3.ipynb\" target=\"_parent\"><img src=\"https://colab.research.google.com/assets/colab-badge.svg\" alt=\"Open In Colab\"/></a>"
      ]
    },
    {
      "cell_type": "code",
      "execution_count": 1,
      "metadata": {
        "colab": {
          "base_uri": "https://localhost:8080/"
        },
        "id": "Lpjs9PUY3TQh",
        "outputId": "96d110ff-ea82-417a-bdce-0f2a6a16cc64"
      },
      "outputs": [
        {
          "output_type": "stream",
          "name": "stdout",
          "text": [
            "[['Sunny' 'Hot' 'High' 'Weak' 'No']\n",
            " ['Sunny' 'Hot' 'High' 'Strong' 'No']\n",
            " ['Overcast' 'Hot' 'High' 'Weak' 'Yes']\n",
            " ['Rain' 'Mild' 'High' 'Weak' 'Yes']\n",
            " ['Rain' 'Cool' 'Normal' 'Weak' 'Yes']\n",
            " ['Rain' 'Cool' 'Normal' 'Strong' 'No']\n",
            " ['Overcast' 'Cool' 'Normal' 'Strong' 'Yes']\n",
            " ['Overcast' 'Mild' 'High' 'Weak' 'No']\n",
            " ['Sunny' 'Cool' 'Normal' 'Weak' 'Yes']\n",
            " ['Rain' 'Mild' 'Normal' 'Weak' 'Yes']]\n"
          ]
        }
      ],
      "source": [
        "import numpy as np\n",
        "\n",
        "def create_train_data():\n",
        "    data = [\n",
        "        ['Sunny', 'Hot', 'High', 'Weak', 'No'],\n",
        "        ['Sunny', 'Hot', 'High', 'Strong', 'No'],\n",
        "        ['Overcast', 'Hot', 'High', 'Weak', 'Yes'],\n",
        "        ['Rain', 'Mild', 'High', 'Weak', 'Yes'],\n",
        "        ['Rain', 'Cool', 'Normal', 'Weak', 'Yes'],\n",
        "        ['Rain', 'Cool', 'Normal', 'Strong', 'No'],\n",
        "        ['Overcast', 'Cool', 'Normal', 'Strong', 'Yes'],\n",
        "        ['Overcast', 'Mild', 'High', 'Weak', 'No'],\n",
        "        ['Sunny', 'Cool', 'Normal', 'Weak', 'Yes'],\n",
        "        ['Rain', 'Mild', 'Normal', 'Weak', 'Yes']\n",
        "    ]\n",
        "    return np.array(data)\n",
        "\n",
        "train_data = create_train_data()\n",
        "print(train_data)\n"
      ]
    }
  ]
}