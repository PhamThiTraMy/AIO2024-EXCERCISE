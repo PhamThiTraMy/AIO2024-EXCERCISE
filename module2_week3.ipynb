{
  "nbformat": 4,
  "nbformat_minor": 0,
  "metadata": {
    "colab": {
      "provenance": [],
      "authorship_tag": "ABX9TyOFn6H+0fzyWQ2efN0PAOQ+",
      "include_colab_link": true
    },
    "kernelspec": {
      "name": "python3",
      "display_name": "Python 3"
    },
    "language_info": {
      "name": "python"
    }
  },
  "cells": [
    {
      "cell_type": "markdown",
      "metadata": {
        "id": "view-in-github",
        "colab_type": "text"
      },
      "source": [
        "<a href=\"https://colab.research.google.com/github/PhamThiTraMy/AIO2024-EXCERCISE/blob/main/module2_week3.ipynb\" target=\"_parent\"><img src=\"https://colab.research.google.com/assets/colab-badge.svg\" alt=\"Open In Colab\"/></a>"
      ]
    },
    {
      "cell_type": "markdown",
      "source": [
        "4.1"
      ],
      "metadata": {
        "id": "BCtoUayj4ORf"
      }
    },
    {
      "cell_type": "code",
      "execution_count": 1,
      "metadata": {
        "colab": {
          "base_uri": "https://localhost:8080/"
        },
        "id": "Lpjs9PUY3TQh",
        "outputId": "96d110ff-ea82-417a-bdce-0f2a6a16cc64"
      },
      "outputs": [
        {
          "output_type": "stream",
          "name": "stdout",
          "text": [
            "[['Sunny' 'Hot' 'High' 'Weak' 'No']\n",
            " ['Sunny' 'Hot' 'High' 'Strong' 'No']\n",
            " ['Overcast' 'Hot' 'High' 'Weak' 'Yes']\n",
            " ['Rain' 'Mild' 'High' 'Weak' 'Yes']\n",
            " ['Rain' 'Cool' 'Normal' 'Weak' 'Yes']\n",
            " ['Rain' 'Cool' 'Normal' 'Strong' 'No']\n",
            " ['Overcast' 'Cool' 'Normal' 'Strong' 'Yes']\n",
            " ['Overcast' 'Mild' 'High' 'Weak' 'No']\n",
            " ['Sunny' 'Cool' 'Normal' 'Weak' 'Yes']\n",
            " ['Rain' 'Mild' 'Normal' 'Weak' 'Yes']]\n"
          ]
        }
      ],
      "source": [
        "import numpy as np\n",
        "\n",
        "def create_train_data():\n",
        "    data = [\n",
        "        ['Sunny', 'Hot', 'High', 'Weak', 'No'],\n",
        "        ['Sunny', 'Hot', 'High', 'Strong', 'No'],\n",
        "        ['Overcast', 'Hot', 'High', 'Weak', 'Yes'],\n",
        "        ['Rain', 'Mild', 'High', 'Weak', 'Yes'],\n",
        "        ['Rain', 'Cool', 'Normal', 'Weak', 'Yes'],\n",
        "        ['Rain', 'Cool', 'Normal', 'Strong', 'No'],\n",
        "        ['Overcast', 'Cool', 'Normal', 'Strong', 'Yes'],\n",
        "        ['Overcast', 'Mild', 'High', 'Weak', 'No'],\n",
        "        ['Sunny', 'Cool', 'Normal', 'Weak', 'Yes'],\n",
        "        ['Rain', 'Mild', 'Normal', 'Weak', 'Yes']\n",
        "    ]\n",
        "    return np.array(data)\n",
        "\n",
        "train_data = create_train_data()\n",
        "print(train_data)\n"
      ]
    },
    {
      "cell_type": "markdown",
      "source": [
        "Câu 14"
      ],
      "metadata": {
        "id": "GlkyMHQ74USA"
      }
    },
    {
      "cell_type": "code",
      "source": [
        "import numpy as np\n",
        "\n",
        "def compute_prior_probability(train_data):\n",
        "    # Get the labels (last column) from the training data\n",
        "    y = train_data[:, -1]\n",
        "\n",
        "    # Define the unique labels\n",
        "    y_unique = ['no', 'yes']\n",
        "\n",
        "    # Initialize the prior probabilities\n",
        "    prior_probability = np.zeros(len(y_unique))\n",
        "\n",
        "    # Compute the prior probabilities\n",
        "    for i, label in enumerate(y_unique):\n",
        "        prior_probability[i] = np.sum(y == label) / len(y)\n",
        "\n",
        "    return prior_probability\n",
        "\n",
        "train_data = create_train_data()\n",
        "prior_probability = compute_prior_probability(train_data)\n",
        "print(\"P(play tennis = No):\", prior_probability[0])\n",
        "print(\"P(play tennis = Yes):\", prior_probability[1])\n"
      ],
      "metadata": {
        "colab": {
          "base_uri": "https://localhost:8080/"
        },
        "id": "867SkF4T4Vnv",
        "outputId": "80de31b4-7d71-4f66-ecd2-c120c2c5c11d"
      },
      "execution_count": 3,
      "outputs": [
        {
          "output_type": "stream",
          "name": "stdout",
          "text": [
            "P(play tennis = No): 0.0\n",
            "P(play tennis = Yes): 0.0\n"
          ]
        }
      ]
    },
    {
      "cell_type": "code",
      "source": [
        "import numpy as np\n",
        "\n",
        "def compute_prior_probability(train_data):\n",
        "    # Get the labels (last column) from the training data\n",
        "    y = train_data[:, -1]\n",
        "\n",
        "    # Define the unique labels\n",
        "    y_unique = ['no', 'yes']\n",
        "\n",
        "    # Initialize the prior probabilities\n",
        "    prior_probability = np.zeros(len(y_unique))\n",
        "\n",
        "    # Compute the prior probabilities\n",
        "    for i, label in enumerate(y_unique):\n",
        "        prior_probability[i] = np.sum(y == label) / len(y)\n",
        "\n",
        "    return prior_probability\n",
        "\n",
        "train_data = create_train_data()\n",
        "prior_probability = compute_prior_probability(train_data)\n",
        "print(\"P(play tennis = No):\", prior_probability[0])\n",
        "print(\"P(play tennis = Yes):\", prior_probability[1])"
      ],
      "metadata": {
        "colab": {
          "base_uri": "https://localhost:8080/"
        },
        "id": "1RhXF4JG6Vr-",
        "outputId": "5284462f-b9ce-4b8e-8d21-9cead7b77a33"
      },
      "execution_count": 4,
      "outputs": [
        {
          "output_type": "stream",
          "name": "stdout",
          "text": [
            "P(play tennis = No): 0.0\n",
            "P(play tennis = Yes): 0.0\n"
          ]
        }
      ]
    },
    {
      "cell_type": "code",
      "source": [
        "import numpy as np\n",
        "\n",
        "def compute_conditional_probability(train_data):\n",
        "    y_unique = ['no', 'yes']\n",
        "    conditional_probability = []\n",
        "    list_x_name = []\n",
        "\n",
        "    for i in range(0, train_data.shape[1] - 1):\n",
        "        x_unique = np.unique(train_data[:, i])\n",
        "        list_x_name.append(x_unique)\n",
        "\n",
        "        x_conditional_probability = np.zeros((len(y_unique), len(x_unique)))\n",
        "\n",
        "        for j, y in enumerate(y_unique):\n",
        "            for k, x in enumerate(x_unique):\n",
        "                x_conditional_probability[j, k] = np.sum((train_data[:, i] == x) & (train_data[:, -1] == y)) / np.sum(train_data[:, -1] == y)\n",
        "\n",
        "        conditional_probability.append(x_conditional_probability)\n",
        "\n",
        "    return conditional_probability, list_x_name\n"
      ],
      "metadata": {
        "id": "YI1f0nEk6vNE"
      },
      "execution_count": 6,
      "outputs": []
    }
  ]
}